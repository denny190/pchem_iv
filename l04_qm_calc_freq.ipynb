{
 "cells": [
  {
   "cell_type": "markdown",
   "metadata": {},
   "source": [
    "Obtain vibrational energy levels and rotational temepratures for some small molecules from QM calculation (e.g. using Gaussian); calculate their Cv at various temperatures and compare with tabulated values."
   ]
  },
  {
   "cell_type": "markdown",
   "metadata": {},
   "source": [
    "Only the calculation for the first molecule (in this case CO2), will be described in detail to illustrate the workflow.\n",
    "\n",
    "Gaussian job setup for a frequency calculation:\n",
    "\n",
    "```\n",
    "%chk=l04_qmcalc.chk\n",
    "#p opt freq ccsd/cc-pvtz\n",
    "\n",
    "opt + freq on co2\n",
    "\n",
    "0 1\n",
    "C  0.0  0.0  0.0\n",
    "O -1.0  0.0  0.0\n",
    "O  1.0  0.0  0.0\n",
    "```\n",
    "\n",
    "Frequency information retrieved from the log file of the finished calculation:\n",
    "```\n",
    " Harmonic frequencies (cm**-1), IR intensities (KM/Mole), Raman scattering\n",
    " activities (A**4/AMU), depolarization ratios for plane and unpolarized\n",
    " incident light, reduced masses (AMU), force constants (mDyne/A),\n",
    " and normal coordinates:\n",
    "                      1                      2                      3\n",
    "                     PIU                    PIU                    SGG\n",
    " Frequencies --    684.5137               684.5137              1389.7091\n",
    " Red. masses --     12.8774                12.8774                15.9949\n",
    " Frc consts  --      3.5550                 3.5550                18.2004\n",
    " IR Inten    --     34.3245                34.3245                 0.0000\n",
    "  Atom  AN      X      Y      Z        X      Y      Z        X      Y      Z\n",
    "     1   6     0.00   0.88   0.00     0.88  -0.00   0.00     0.00  -0.00  -0.00\n",
    "     2   8    -0.00  -0.33   0.00    -0.33   0.00  -0.00    -0.00   0.00   0.71\n",
    "     3   8    -0.00  -0.33  -0.00    -0.33   0.00  -0.00     0.00   0.00  -0.71\n",
    "                      4\n",
    "                     SGU\n",
    " Frequencies --   2434.6980\n",
    " Red. masses --     12.8774\n",
    " Frc consts  --     44.9746\n",
    " IR Inten    --    709.2532\n",
    "  Atom  AN      X      Y      Z\n",
    "     1   6    -0.00  -0.00   0.88\n",
    "     2   8     0.00   0.00  -0.33\n",
    "     3   8     0.00   0.00  -0.33\n",
    "```\n",
    "\n"
   ]
  }
 ],
 "metadata": {
  "language_info": {
   "name": "python"
  }
 },
 "nbformat": 4,
 "nbformat_minor": 2
}
